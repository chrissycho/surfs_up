{
 "cells": [
  {
   "cell_type": "code",
   "execution_count": 1,
   "metadata": {},
   "outputs": [],
   "source": [
    "# Create a New Python File and Import the Flask Dependency\n",
    "from flask import Flask"
   ]
  },
  {
   "cell_type": "code",
   "execution_count": 2,
   "metadata": {},
   "outputs": [],
   "source": [
    "# Create a New Flask App Instance (Create a Flask app)\n",
    "app = Flask(__name__)"
   ]
  },
  {
   "cell_type": "code",
   "execution_count": 3,
   "metadata": {},
   "outputs": [],
   "source": [
    "# Create a Flask route\n",
    "@app.route('/')\n",
    "def hello_world():\n",
    "\treturn 'Hello world'\n",
    "# forward slash: denote we want to put our data at the root of our routes. \n",
    "# Starting point is called root "
   ]
  },
  {
   "cell_type": "code",
   "execution_count": 4,
   "metadata": {},
   "outputs": [],
   "source": [
    "# Run a Flask App\n",
    "# 1) use the command line to navigate to the folder where we’ve saved our code\n",
    "    #export FLASK_APP=app.py on terminal\n",
    "    # flask run on the terminal\n",
    "http://127.0.0.1:5000/ this is a local host "
   ]
  }
 ],
 "metadata": {
  "kernelspec": {
   "display_name": "PythonData",
   "language": "python",
   "name": "pythondata"
  },
  "language_info": {
   "codemirror_mode": {
    "name": "ipython",
    "version": 3
   },
   "file_extension": ".py",
   "mimetype": "text/x-python",
   "name": "python",
   "nbconvert_exporter": "python",
   "pygments_lexer": "ipython3",
   "version": "3.7.7"
  }
 },
 "nbformat": 4,
 "nbformat_minor": 4
}
